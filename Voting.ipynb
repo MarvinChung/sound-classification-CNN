{
 "cells": [
  {
   "cell_type": "code",
   "execution_count": 1,
   "metadata": {},
   "outputs": [
    {
     "name": "stderr",
     "output_type": "stream",
     "text": [
      "Using TensorFlow backend.\n",
      "/opt/conda/lib/python3.6/importlib/_bootstrap.py:219: RuntimeWarning: numpy.dtype size changed, may indicate binary incompatibility. Expected 96, got 88\n",
      "  return f(*args, **kwds)\n",
      "/opt/conda/lib/python3.6/importlib/_bootstrap.py:219: RuntimeWarning: numpy.dtype size changed, may indicate binary incompatibility. Expected 96, got 88\n",
      "  return f(*args, **kwds)\n"
     ]
    }
   ],
   "source": [
    "import numpy as np\n",
    "from keras.models import load_model"
   ]
  },
  {
   "cell_type": "code",
   "execution_count": 2,
   "metadata": {},
   "outputs": [],
   "source": [
    "LenetA = load_model('Lenet_model_with_Mag.h5')\n",
    "LenetB = load_model('Lenet_model_with_MagAndPhase.h5') \n",
    "LenetC = load_model('Lenet_model_with_overlap16_turkey_Mag.h5') \n",
    "AlexModel = load_model('AlexNet_with_Mag.h5') "
   ]
  },
  {
   "cell_type": "code",
   "execution_count": 3,
   "metadata": {},
   "outputs": [
    {
     "name": "stdout",
     "output_type": "stream",
     "text": [
      "(21596, 20)\n"
     ]
    }
   ],
   "source": [
    "AlexvaldataY = np.load(\"valAlexnetdataY.npy\")\n",
    "LenetdataY = np.load(\"trainLenetdataY.npy\")\n",
    "print(LenetdataY.shape)\n",
    "testLenetdataPhase = np.load(\"testLenetdataPhase.npy\")\n",
    "testLenetdataMag = np.load(\"testLenetdataMag.npy\")\n",
    "testLenet_tukeydataMag = np.load(\"testLenet_tukeydataMag.npy\")\n",
    "testAlexnetdataPhase = np.load(\"testAlexnetdataPhase.npy\")\n",
    "testAlexnetdataMag = np.load(\"testAlexnetdataMag.npy\")"
   ]
  },
  {
   "cell_type": "code",
   "execution_count": 4,
   "metadata": {},
   "outputs": [
    {
     "name": "stdout",
     "output_type": "stream",
     "text": [
      "(2387, 32, 32, 1)\n",
      "(2387, 32, 32, 1)\n",
      "(2387, 32, 32, 1)\n",
      "(2387, 224, 224, 3)\n",
      "(2387, 224, 224, 3)\n"
     ]
    }
   ],
   "source": [
    "print(testLenetdataPhase.shape)\n",
    "print(testLenetdataMag.shape)\n",
    "print(testLenet_tukeydataMag.shape)\n",
    "print(testAlexnetdataPhase.shape)\n",
    "print(testAlexnetdataMag.shape)\n",
    "dataIn = np.stack((testLenetdataMag,testLenetdataPhase),axis=3)\n",
    "dataIn = np.reshape(dataIn,(dataIn.shape[0],dataIn.shape[1],dataIn.shape[2],dataIn.shape[3]))"
   ]
  },
  {
   "cell_type": "code",
   "execution_count": 5,
   "metadata": {},
   "outputs": [],
   "source": [
    "y1 = LenetA.predict(testLenetdataMag)\n",
    "y2 = LenetB.predict(dataIn)\n",
    "y3 = LenetC.predict(testLenet_tukeydataMag)\n",
    "y4 = AlexModel.predict(testAlexnetdataMag)"
   ]
  },
  {
   "cell_type": "code",
   "execution_count": 6,
   "metadata": {},
   "outputs": [
    {
     "name": "stdout",
     "output_type": "stream",
     "text": [
      "(2387, 20)\n",
      "(2387, 20)\n",
      "(2387, 20)\n",
      "(2387, 20)\n"
     ]
    }
   ],
   "source": [
    "print(y1.shape)\n",
    "print(y2.shape)\n",
    "print(y3.shape)\n",
    "print(y2.shape)"
   ]
  },
  {
   "cell_type": "code",
   "execution_count": 7,
   "metadata": {},
   "outputs": [],
   "source": [
    "results=[]\n",
    "err = 0\n",
    "for i in range(y4.shape[0]):\n",
    "    ans = -1\n",
    "    ans1 = np.argmax(y1[i])\n",
    "    ans2 = np.argmax(y2[i])\n",
    "    ans3 = np.argmax(y3[i])\n",
    "    ans4 = np.argmax(y4[i])\n",
    "    choice = np.zeros(20)\n",
    "    choice[ans1] += 1\n",
    "    choice[ans2] += 1\n",
    "    choice[ans3] += 1\n",
    "    choice[ans4] += 1\n",
    "    best = 0\n",
    "    best_arg = []\n",
    "    best_arg_ct = 0\n",
    "    for i in range(20):\n",
    "        if(choice[i]>=best):\n",
    "            best = choice[i]\n",
    "            best_arg.append(i)\n",
    "    #print(best_arg[len(best_arg)-1],np.argmax(choice))\n",
    "    for j in range(len(best_arg)):\n",
    "        if(best_arg[j]==best):\n",
    "            best_arg_ct = best_arg_ct + 1\n",
    "    if(best_arg_ct>=2):\n",
    "        print(\"2 vs 2\")\n",
    "        ans = ans4\n",
    "    else:\n",
    "        ans = best_arg[len(best_arg)-1]\n",
    "    \n",
    "    if(ans==-1):\n",
    "        print(\"invalid ans\")\n",
    "        exit(1)\n",
    "    results.append(ans)\n"
   ]
  },
  {
   "cell_type": "code",
   "execution_count": 10,
   "metadata": {},
   "outputs": [
    {
     "name": "stdout",
     "output_type": "stream",
     "text": [
      "(2387,)\n",
      "[18  2 18 ...  5 17  8]\n"
     ]
    }
   ],
   "source": [
    "results = np.asarray(results,dtype='int64')\n",
    "print(results.shape)\n",
    "print(results)"
   ]
  },
  {
   "cell_type": "code",
   "execution_count": 11,
   "metadata": {},
   "outputs": [],
   "source": [
    "np.save('results.npy',results)"
   ]
  },
  {
   "cell_type": "code",
   "execution_count": null,
   "metadata": {},
   "outputs": [],
   "source": []
  }
 ],
 "metadata": {
  "kernelspec": {
   "display_name": "Python 3",
   "language": "python",
   "name": "python3"
  },
  "language_info": {
   "codemirror_mode": {
    "name": "ipython",
    "version": 3
   },
   "file_extension": ".py",
   "mimetype": "text/x-python",
   "name": "python",
   "nbconvert_exporter": "python",
   "pygments_lexer": "ipython3",
   "version": "3.6.6"
  }
 },
 "nbformat": 4,
 "nbformat_minor": 2
}

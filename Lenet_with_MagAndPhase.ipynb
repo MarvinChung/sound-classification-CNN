{
 "cells": [
  {
   "cell_type": "code",
   "execution_count": 1,
   "metadata": {},
   "outputs": [
    {
     "name": "stderr",
     "output_type": "stream",
     "text": [
      "/opt/conda/lib/python3.6/importlib/_bootstrap.py:219: RuntimeWarning: numpy.dtype size changed, may indicate binary incompatibility. Expected 96, got 88\n",
      "  return f(*args, **kwds)\n",
      "/opt/conda/lib/python3.6/importlib/_bootstrap.py:219: RuntimeWarning: numpy.dtype size changed, may indicate binary incompatibility. Expected 96, got 88\n",
      "  return f(*args, **kwds)\n"
     ]
    }
   ],
   "source": [
    "import numpy as np\n",
    "import tensorflow as tf\n",
    "\n",
    "dataPhase = np.load(\"trainLenetdataPhase.npy\")\n",
    "dataMag = np.load(\"trainLenetdataMag.npy\")\n",
    "dataY = np.load(\"trainLenetdataY.npy\")\n"
   ]
  },
  {
   "cell_type": "code",
   "execution_count": 2,
   "metadata": {},
   "outputs": [
    {
     "name": "stderr",
     "output_type": "stream",
     "text": [
      "Using TensorFlow backend.\n"
     ]
    }
   ],
   "source": [
    "from keras.models import Sequential\n",
    "from keras.layers import Convolution2D\n",
    "model = Sequential()\n",
    "model.add(Convolution2D(filters=6,kernel_size=(5,5),strides=1,activation='relu',input_shape=(32,32,2)))"
   ]
  },
  {
   "cell_type": "code",
   "execution_count": 3,
   "metadata": {},
   "outputs": [],
   "source": [
    "from keras.layers import MaxPooling2D\n",
    "model.add(MaxPooling2D(pool_size=(2,2),strides=(2,2)))\n",
    "model.add(Convolution2D(filters=16,kernel_size=(5,5),strides=1,activation='relu'))\n",
    "model.add(MaxPooling2D(pool_size=(2,2),strides=(2,2)))"
   ]
  },
  {
   "cell_type": "code",
   "execution_count": 4,
   "metadata": {},
   "outputs": [],
   "source": [
    "from keras.layers import Flatten\n",
    "model.add(Flatten())"
   ]
  },
  {
   "cell_type": "code",
   "execution_count": 5,
   "metadata": {},
   "outputs": [],
   "source": [
    "from keras.layers import Dense\n",
    "model.add(Dense(120,input_shape=(400,),activation='relu'))\n",
    "model.add(Dense(84,activation='relu'))\n",
    "model.add(Dense(20,activation='softmax'))"
   ]
  },
  {
   "cell_type": "code",
   "execution_count": 6,
   "metadata": {},
   "outputs": [],
   "source": [
    "from keras.optimizers import Adam\n",
    "optimizer = Adam(lr=0.0001)\n",
    "model.compile(loss='categorical_crossentropy',optimizer=optimizer,metrics=['accuracy'])"
   ]
  },
  {
   "cell_type": "code",
   "execution_count": 7,
   "metadata": {},
   "outputs": [
    {
     "name": "stdout",
     "output_type": "stream",
     "text": [
      "(21596, 32, 32, 1) (21596, 32, 32, 1)\n",
      "(21596, 32, 32, 2)\n"
     ]
    }
   ],
   "source": [
    "\n",
    "print(dataMag.shape,dataPhase.shape)\n",
    "dataIn = np.stack((dataMag,dataPhase),axis=3)\n",
    "dataIn = np.reshape(dataIn,(dataIn.shape[0],dataIn.shape[1],dataIn.shape[2],dataIn.shape[3]))\n",
    "print(dataIn.shape)\n"
   ]
  },
  {
   "cell_type": "code",
   "execution_count": 8,
   "metadata": {},
   "outputs": [
    {
     "name": "stdout",
     "output_type": "stream",
     "text": [
      "_________________________________________________________________\n",
      "Layer (type)                 Output Shape              Param #   \n",
      "=================================================================\n",
      "conv2d_1 (Conv2D)            (None, 28, 28, 6)         306       \n",
      "_________________________________________________________________\n",
      "max_pooling2d_1 (MaxPooling2 (None, 14, 14, 6)         0         \n",
      "_________________________________________________________________\n",
      "conv2d_2 (Conv2D)            (None, 10, 10, 16)        2416      \n",
      "_________________________________________________________________\n",
      "max_pooling2d_2 (MaxPooling2 (None, 5, 5, 16)          0         \n",
      "_________________________________________________________________\n",
      "flatten_1 (Flatten)          (None, 400)               0         \n",
      "_________________________________________________________________\n",
      "dense_1 (Dense)              (None, 120)               48120     \n",
      "_________________________________________________________________\n",
      "dense_2 (Dense)              (None, 84)                10164     \n",
      "_________________________________________________________________\n",
      "dense_3 (Dense)              (None, 20)                1700      \n",
      "=================================================================\n",
      "Total params: 62,706\n",
      "Trainable params: 62,706\n",
      "Non-trainable params: 0\n",
      "_________________________________________________________________\n"
     ]
    }
   ],
   "source": [
    "model.summary()"
   ]
  },
  {
   "cell_type": "code",
   "execution_count": 9,
   "metadata": {},
   "outputs": [
    {
     "name": "stdout",
     "output_type": "stream",
     "text": [
      "Epoch 1/20\n",
      "21596/21596 [==============================] - 27s 1ms/step - loss: 4.0767 - acc: 0.3054\n",
      "Epoch 2/20\n",
      "21596/21596 [==============================] - 35s 2ms/step - loss: 1.0459 - acc: 0.6503\n",
      "Epoch 3/20\n",
      "21596/21596 [==============================] - 28s 1ms/step - loss: 0.6578 - acc: 0.7810\n",
      "Epoch 4/20\n",
      "21596/21596 [==============================] - 28s 1ms/step - loss: 0.4827 - acc: 0.8448\n",
      "Epoch 5/20\n",
      "21596/21596 [==============================] - 28s 1ms/step - loss: 0.3819 - acc: 0.8802\n",
      "Epoch 6/20\n",
      "21596/21596 [==============================] - 28s 1ms/step - loss: 0.3195 - acc: 0.8981\n",
      "Epoch 7/20\n",
      "21596/21596 [==============================] - 27s 1ms/step - loss: 0.2718 - acc: 0.9159\n",
      "Epoch 8/20\n",
      "21596/21596 [==============================] - 26s 1ms/step - loss: 0.2360 - acc: 0.9252\n",
      "Epoch 9/20\n",
      "21596/21596 [==============================] - 27s 1ms/step - loss: 0.2024 - acc: 0.9369: 1s - loss: \n",
      "Epoch 10/20\n",
      "21596/21596 [==============================] - 44s 2ms/step - loss: 0.1801 - acc: 0.9425\n",
      "Epoch 11/20\n",
      "21596/21596 [==============================] - 29s 1ms/step - loss: 0.1508 - acc: 0.9508\n",
      "Epoch 12/20\n",
      "21596/21596 [==============================] - 25s 1ms/step - loss: 0.1319 - acc: 0.9563\n",
      "Epoch 13/20\n",
      "21596/21596 [==============================] - 26s 1ms/step - loss: 0.1182 - acc: 0.9617\n",
      "Epoch 14/20\n",
      "21596/21596 [==============================] - 27s 1ms/step - loss: 0.1000 - acc: 0.9676\n",
      "Epoch 15/20\n",
      "21596/21596 [==============================] - 27s 1ms/step - loss: 0.0965 - acc: 0.9699\n",
      "Epoch 16/20\n",
      "21596/21596 [==============================] - 26s 1ms/step - loss: 0.0773 - acc: 0.9757\n",
      "Epoch 17/20\n",
      "21596/21596 [==============================] - 24s 1ms/step - loss: 0.0690 - acc: 0.9800\n",
      "Epoch 18/20\n",
      "21596/21596 [==============================] - 26s 1ms/step - loss: 0.0667 - acc: 0.9810\n",
      "Epoch 19/20\n",
      "21596/21596 [==============================] - 25s 1ms/step - loss: 0.0545 - acc: 0.9851\n",
      "Epoch 20/20\n",
      "21596/21596 [==============================] - 27s 1ms/step - loss: 0.0449 - acc: 0.9872\n"
     ]
    },
    {
     "data": {
      "text/plain": [
       "<keras.callbacks.History at 0x7fcb4bffb588>"
      ]
     },
     "execution_count": 9,
     "metadata": {},
     "output_type": "execute_result"
    }
   ],
   "source": [
    "model.fit(x=dataIn,y=dataY,epochs=20,batch_size=32)"
   ]
  },
  {
   "cell_type": "code",
   "execution_count": 10,
   "metadata": {},
   "outputs": [],
   "source": [
    "model.save('Lenet_model_with_MagAndPhase.h5') \n"
   ]
  },
  {
   "cell_type": "code",
   "execution_count": 13,
   "metadata": {},
   "outputs": [],
   "source": [
    "\n"
   ]
  },
  {
   "cell_type": "code",
   "execution_count": 15,
   "metadata": {},
   "outputs": [],
   "source": []
  },
  {
   "cell_type": "code",
   "execution_count": 18,
   "metadata": {},
   "outputs": [
    {
     "name": "stdout",
     "output_type": "stream",
     "text": [
      "[8.19692403e-08 9.36005440e-12 1.59889246e-13 4.57460902e-10\n",
      " 9.99854445e-01 1.11907306e-11 4.28089379e-06 9.00322557e-05\n",
      " 4.19141486e-07 4.65972573e-12 2.63611919e-12 2.04748758e-05\n",
      " 3.50775697e-09 1.11668765e-10 2.43203097e-11 2.67762116e-05\n",
      " 1.51102512e-14 3.02982085e-06 4.44321586e-07 2.63753519e-10]\n"
     ]
    }
   ],
   "source": []
  },
  {
   "cell_type": "code",
   "execution_count": 19,
   "metadata": {},
   "outputs": [
    {
     "name": "stdout",
     "output_type": "stream",
     "text": [
      "[0. 0. 0. 0. 1. 0. 0. 0. 0. 0. 0. 0. 0. 0. 0. 0. 0. 0. 0. 0.]\n"
     ]
    }
   ],
   "source": []
  },
  {
   "cell_type": "code",
   "execution_count": null,
   "metadata": {},
   "outputs": [],
   "source": []
  }
 ],
 "metadata": {
  "kernelspec": {
   "display_name": "Python 3",
   "language": "python",
   "name": "python3"
  },
  "language_info": {
   "codemirror_mode": {
    "name": "ipython",
    "version": 3
   },
   "file_extension": ".py",
   "mimetype": "text/x-python",
   "name": "python",
   "nbconvert_exporter": "python",
   "pygments_lexer": "ipython3",
   "version": "3.6.6"
  }
 },
 "nbformat": 4,
 "nbformat_minor": 2
}

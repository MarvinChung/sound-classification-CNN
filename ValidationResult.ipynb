{
 "cells": [
  {
   "cell_type": "code",
   "execution_count": 2,
   "metadata": {},
   "outputs": [
    {
     "name": "stderr",
     "output_type": "stream",
     "text": [
      "Using TensorFlow backend.\n",
      "/opt/conda/lib/python3.6/importlib/_bootstrap.py:219: RuntimeWarning: numpy.dtype size changed, may indicate binary incompatibility. Expected 96, got 88\n",
      "  return f(*args, **kwds)\n",
      "/opt/conda/lib/python3.6/importlib/_bootstrap.py:219: RuntimeWarning: numpy.dtype size changed, may indicate binary incompatibility. Expected 96, got 88\n",
      "  return f(*args, **kwds)\n"
     ]
    }
   ],
   "source": [
    "import numpy as np\n",
    "from keras.models import load_model\n",
    "\n",
    "LenetModel = load_model('Lenet_model_with_Mag.h5')"
   ]
  },
  {
   "cell_type": "code",
   "execution_count": 3,
   "metadata": {},
   "outputs": [],
   "source": [
    "valdataPhase = np.load(\"valLenetdataPhase.npy\")\n",
    "valdataMag = np.load(\"valLenetdataMag.npy\")\n",
    "valdataY = np.load(\"valLenetdataY.npy\")"
   ]
  },
  {
   "cell_type": "code",
   "execution_count": 4,
   "metadata": {},
   "outputs": [],
   "source": [
    "y = LenetModel.predict(valdataMag)\n",
    "\n",
    "    \n",
    "    "
   ]
  },
  {
   "cell_type": "code",
   "execution_count": 5,
   "metadata": {},
   "outputs": [
    {
     "name": "stdout",
     "output_type": "stream",
     "text": [
      "(4648, 20)\n",
      "(4648, 20)\n"
     ]
    }
   ],
   "source": [
    "result=[]\n",
    "print(y.shape)\n",
    "print(valdataY.shape)\n",
    "err = 0\n",
    "for i in range(y.shape[0]):\n",
    "    ans = np.argmax(y[i])\n",
    "    result.append(ans)\n",
    "    if  ans!= np.argmax(valdataY[i]):\n",
    "        err = err+1\n",
    "    "
   ]
  },
  {
   "cell_type": "code",
   "execution_count": 6,
   "metadata": {},
   "outputs": [
    {
     "name": "stdout",
     "output_type": "stream",
     "text": [
      "err rate: 0.07960413080895008\n",
      "acc: 0.9203958691910499\n"
     ]
    }
   ],
   "source": [
    "#Lenet_model_with_Mag\n",
    "err_rate = float(err)/y.shape[0]\n",
    "print(\"err rate:\",err_rate)\n",
    "print(\"acc:\",1-err_rate)"
   ]
  },
  {
   "cell_type": "code",
   "execution_count": null,
   "metadata": {},
   "outputs": [],
   "source": []
  },
  {
   "cell_type": "code",
   "execution_count": 7,
   "metadata": {},
   "outputs": [],
   "source": [
    "#Lenet2\n",
    "LenetModel_2 = load_model('Lenet_model_with_MagAndPhase.h5') "
   ]
  },
  {
   "cell_type": "code",
   "execution_count": 8,
   "metadata": {},
   "outputs": [],
   "source": [
    "dataIn = np.stack((valdataMag,valdataPhase),axis=3)\n",
    "dataIn = np.reshape(dataIn,(dataIn.shape[0],dataIn.shape[1],dataIn.shape[2],dataIn.shape[3]))\n",
    "y2 = LenetModel_2.predict(dataIn)"
   ]
  },
  {
   "cell_type": "code",
   "execution_count": 9,
   "metadata": {},
   "outputs": [
    {
     "name": "stdout",
     "output_type": "stream",
     "text": [
      "(4648, 20)\n",
      "(4648, 20)\n"
     ]
    }
   ],
   "source": [
    "result=[]\n",
    "print(y.shape)\n",
    "print(valdataY.shape)\n",
    "err = 0\n",
    "for i in range(y2.shape[0]):\n",
    "    ans = np.argmax(y2[i])\n",
    "    result.append(ans)\n",
    "    if  ans!= np.argmax(valdataY[i]):\n",
    "        err = err+1"
   ]
  },
  {
   "cell_type": "code",
   "execution_count": 10,
   "metadata": {},
   "outputs": [
    {
     "name": "stdout",
     "output_type": "stream",
     "text": [
      "err rate: 0.0950946643717728\n",
      "acc: 0.9049053356282272\n"
     ]
    }
   ],
   "source": [
    "#Lenet_model_with_MagAndPhase\n",
    "err_rate = float(err)/y2.shape[0]\n",
    "print(\"err rate:\",err_rate)\n",
    "print(\"acc:\",1-err_rate)"
   ]
  },
  {
   "cell_type": "code",
   "execution_count": 11,
   "metadata": {},
   "outputs": [],
   "source": [
    "#AlexNet\n",
    "AlexModel = load_model('AlexNet_with_Mag.h5') "
   ]
  },
  {
   "cell_type": "code",
   "execution_count": 11,
   "metadata": {},
   "outputs": [],
   "source": [
    "AlexvaldataPhase = np.load(\"valAlexnetdataPhase.npy\")\n",
    "AlexvaldataMag = np.load(\"valAlexnetdataMag.npy\")\n",
    "AlexvaldataY = np.load(\"valAlexnetdataY.npy\")"
   ]
  },
  {
   "cell_type": "code",
   "execution_count": null,
   "metadata": {},
   "outputs": [],
   "source": [
    "y3 = AlexModel.predict(AlexvaldataMag)"
   ]
  },
  {
   "cell_type": "code",
   "execution_count": null,
   "metadata": {},
   "outputs": [],
   "source": [
    "result=[]\n",
    "print(y3.shape)\n",
    "print(AlexvaldataY.shape)\n",
    "err = 0\n",
    "for i in range(y3.shape[0]):\n",
    "    ans = np.argmax(y3[i])\n",
    "    result.append(ans)\n",
    "    if  ans!= np.argmax(AlexvaldataY[i]):\n",
    "        err = err+1"
   ]
  },
  {
   "cell_type": "code",
   "execution_count": null,
   "metadata": {},
   "outputs": [],
   "source": [
    "#AlexNet_with_Mag\n",
    "err_rate = float(err)/y3.shape[0]\n",
    "print(\"err rate:\",err_rate)\n",
    "print(\"acc:\",1-err_rate)"
   ]
  },
  {
   "cell_type": "code",
   "execution_count": 12,
   "metadata": {},
   "outputs": [],
   "source": [
    "#Lenet3\n",
    "Lenet3 = load_model('Lenet_model_with_50percentoverlapping_turkey_Mag.h5') "
   ]
  },
  {
   "cell_type": "code",
   "execution_count": 14,
   "metadata": {},
   "outputs": [],
   "source": [
    "y4 = Lenet3.predict(valdataMag)"
   ]
  },
  {
   "cell_type": "code",
   "execution_count": 15,
   "metadata": {},
   "outputs": [
    {
     "name": "stdout",
     "output_type": "stream",
     "text": [
      "(4648, 20)\n",
      "(4648, 20)\n"
     ]
    }
   ],
   "source": [
    "result=[]\n",
    "print(y.shape)\n",
    "print(valdataY.shape)\n",
    "err = 0\n",
    "for i in range(y4.shape[0]):\n",
    "    ans = np.argmax(y4[i])\n",
    "    result.append(ans)\n",
    "    if  ans!= np.argmax(valdataY[i]):\n",
    "        err = err+1"
   ]
  },
  {
   "cell_type": "code",
   "execution_count": 16,
   "metadata": {},
   "outputs": [
    {
     "name": "stdout",
     "output_type": "stream",
     "text": [
      "err rate: 0.037435456110154905\n",
      "acc: 0.9625645438898451\n"
     ]
    }
   ],
   "source": [
    "#Lenet_model_with_50percentoverlapping_turkey_Mag\n",
    "err_rate = float(err)/y4.shape[0]\n",
    "print(\"err rate:\",err_rate)\n",
    "print(\"acc:\",1-err_rate)"
   ]
  },
  {
   "cell_type": "code",
   "execution_count": null,
   "metadata": {},
   "outputs": [],
   "source": []
  }
 ],
 "metadata": {
  "kernelspec": {
   "display_name": "Python 3",
   "language": "python",
   "name": "python3"
  },
  "language_info": {
   "codemirror_mode": {
    "name": "ipython",
    "version": 3
   },
   "file_extension": ".py",
   "mimetype": "text/x-python",
   "name": "python",
   "nbconvert_exporter": "python",
   "pygments_lexer": "ipython3",
   "version": "3.6.6"
  }
 },
 "nbformat": 4,
 "nbformat_minor": 2
}

{
 "cells": [
  {
   "cell_type": "code",
   "execution_count": 1,
   "metadata": {},
   "outputs": [
    {
     "name": "stderr",
     "output_type": "stream",
     "text": [
      "/opt/conda/lib/python3.6/importlib/_bootstrap.py:219: RuntimeWarning: numpy.dtype size changed, may indicate binary incompatibility. Expected 96, got 88\n",
      "  return f(*args, **kwds)\n",
      "/opt/conda/lib/python3.6/importlib/_bootstrap.py:219: RuntimeWarning: numpy.dtype size changed, may indicate binary incompatibility. Expected 96, got 88\n",
      "  return f(*args, **kwds)\n"
     ]
    }
   ],
   "source": [
    "import numpy as np\n",
    "import tensorflow as tf\n",
    "\n",
    "dataPhase = np.load(\"trainLenetdataPhase.npy\")\n",
    "dataMag = np.load(\"trainLenetdataMag.npy\")\n",
    "dataY = np.load(\"trainLenetdataY.npy\")\n"
   ]
  },
  {
   "cell_type": "code",
   "execution_count": 2,
   "metadata": {},
   "outputs": [
    {
     "name": "stderr",
     "output_type": "stream",
     "text": [
      "Using TensorFlow backend.\n"
     ]
    }
   ],
   "source": [
    "from keras.models import Sequential\n",
    "from keras.layers import Convolution2D\n",
    "model = Sequential()\n",
    "model.add(Convolution2D(filters=6,kernel_size=(5,5),strides=1,activation='relu',input_shape=(32,32,1)))"
   ]
  },
  {
   "cell_type": "code",
   "execution_count": 3,
   "metadata": {},
   "outputs": [],
   "source": [
    "from keras.layers import MaxPooling2D\n",
    "model.add(MaxPooling2D(pool_size=(2,2),strides=(2,2)))\n",
    "model.add(Convolution2D(filters=16,kernel_size=(5,5),strides=1,activation='relu'))\n",
    "model.add(MaxPooling2D(pool_size=(2,2),strides=(2,2)))"
   ]
  },
  {
   "cell_type": "code",
   "execution_count": 4,
   "metadata": {},
   "outputs": [],
   "source": [
    "from keras.layers import Flatten\n",
    "model.add(Flatten())"
   ]
  },
  {
   "cell_type": "code",
   "execution_count": 5,
   "metadata": {},
   "outputs": [],
   "source": [
    "from keras.layers import Dense\n",
    "model.add(Dense(120,input_shape=(400,),activation='relu'))\n",
    "model.add(Dense(84,activation='relu'))\n",
    "model.add(Dense(20,activation='softmax'))"
   ]
  },
  {
   "cell_type": "code",
   "execution_count": 6,
   "metadata": {},
   "outputs": [],
   "source": [
    "from keras.optimizers import Adam\n",
    "optimizer = Adam(lr=0.0001)\n",
    "model.compile(loss='categorical_crossentropy',optimizer=optimizer,metrics=['accuracy'])"
   ]
  },
  {
   "cell_type": "code",
   "execution_count": 7,
   "metadata": {},
   "outputs": [
    {
     "name": "stdout",
     "output_type": "stream",
     "text": [
      "(21596, 20)\n",
      "(21596, 32, 32, 1)\n",
      "[[0. 0. 0. ... 0. 0. 1.]\n",
      " [0. 0. 0. ... 0. 0. 0.]\n",
      " [0. 0. 0. ... 1. 0. 0.]\n",
      " ...\n",
      " [0. 0. 0. ... 0. 0. 0.]\n",
      " [0. 0. 0. ... 0. 0. 0.]\n",
      " [0. 0. 0. ... 0. 0. 0.]]\n"
     ]
    }
   ],
   "source": [
    "print(dataY.shape)\n",
    "print(dataMag.shape)\n",
    "print(dataY)\n",
    "#print(dataMag)\n",
    "#print(dataPhase)\n",
    "#print(dataMag)"
   ]
  },
  {
   "cell_type": "code",
   "execution_count": 8,
   "metadata": {},
   "outputs": [
    {
     "name": "stdout",
     "output_type": "stream",
     "text": [
      "_________________________________________________________________\n",
      "Layer (type)                 Output Shape              Param #   \n",
      "=================================================================\n",
      "conv2d_1 (Conv2D)            (None, 28, 28, 6)         156       \n",
      "_________________________________________________________________\n",
      "max_pooling2d_1 (MaxPooling2 (None, 14, 14, 6)         0         \n",
      "_________________________________________________________________\n",
      "conv2d_2 (Conv2D)            (None, 10, 10, 16)        2416      \n",
      "_________________________________________________________________\n",
      "max_pooling2d_2 (MaxPooling2 (None, 5, 5, 16)          0         \n",
      "_________________________________________________________________\n",
      "flatten_1 (Flatten)          (None, 400)               0         \n",
      "_________________________________________________________________\n",
      "dense_1 (Dense)              (None, 120)               48120     \n",
      "_________________________________________________________________\n",
      "dense_2 (Dense)              (None, 84)                10164     \n",
      "_________________________________________________________________\n",
      "dense_3 (Dense)              (None, 20)                1700      \n",
      "=================================================================\n",
      "Total params: 62,556\n",
      "Trainable params: 62,556\n",
      "Non-trainable params: 0\n",
      "_________________________________________________________________\n"
     ]
    }
   ],
   "source": [
    "model.summary()"
   ]
  },
  {
   "cell_type": "code",
   "execution_count": 9,
   "metadata": {},
   "outputs": [
    {
     "name": "stdout",
     "output_type": "stream",
     "text": [
      "Epoch 1/20\n",
      "21596/21596 [==============================] - 24s 1ms/step - loss: 1.2903 - acc: 0.6427\n",
      "Epoch 2/20\n",
      "21596/21596 [==============================] - 21s 975us/step - loss: 0.3800 - acc: 0.9027\n",
      "Epoch 3/20\n",
      "21596/21596 [==============================] - 22s 998us/step - loss: 0.2390 - acc: 0.9349\n",
      "Epoch 4/20\n",
      "21596/21596 [==============================] - ETA: 0s - loss: 0.1782 - acc: 0.950 - 23s 1ms/step - loss: 0.1791 - acc: 0.9501\n",
      "Epoch 5/20\n",
      "21596/21596 [==============================] - 23s 1ms/step - loss: 0.1442 - acc: 0.9585\n",
      "Epoch 6/20\n",
      "21596/21596 [==============================] - 21s 995us/step - loss: 0.1167 - acc: 0.9656\n",
      "Epoch 7/20\n",
      "21596/21596 [==============================] - 22s 1ms/step - loss: 0.1048 - acc: 0.9688\n",
      "Epoch 8/20\n",
      "21596/21596 [==============================] - 21s 958us/step - loss: 0.0913 - acc: 0.9748\n",
      "Epoch 9/20\n",
      "21596/21596 [==============================] - 24s 1ms/step - loss: 0.0806 - acc: 0.9764\n",
      "Epoch 10/20\n",
      "21596/21596 [==============================] - 30s 1ms/step - loss: 0.0733 - acc: 0.9796\n",
      "Epoch 11/20\n",
      "21596/21596 [==============================] - 27s 1ms/step - loss: 0.0607 - acc: 0.9824\n",
      "Epoch 12/20\n",
      "21596/21596 [==============================] - 24s 1ms/step - loss: 0.0544 - acc: 0.9851: 1s \n",
      "Epoch 13/20\n",
      "21596/21596 [==============================] - 27s 1ms/step - loss: 0.0532 - acc: 0.9854\n",
      "Epoch 14/20\n",
      "21596/21596 [==============================] - 27s 1ms/step - loss: 0.0455 - acc: 0.9868\n",
      "Epoch 15/20\n",
      "21596/21596 [==============================] - 27s 1ms/step - loss: 0.0391 - acc: 0.9897\n",
      "Epoch 16/20\n",
      "21596/21596 [==============================] - 28s 1ms/step - loss: 0.0435 - acc: 0.9888\n",
      "Epoch 17/20\n",
      "21596/21596 [==============================] - 27s 1ms/step - loss: 0.0315 - acc: 0.9923\n",
      "Epoch 18/20\n",
      "21596/21596 [==============================] - 28s 1ms/step - loss: 0.0297 - acc: 0.9914\n",
      "Epoch 19/20\n",
      "21596/21596 [==============================] - 27s 1ms/step - loss: 0.0378 - acc: 0.9912\n",
      "Epoch 20/20\n",
      "21596/21596 [==============================] - 31s 1ms/step - loss: 0.0227 - acc: 0.9941\n"
     ]
    },
    {
     "data": {
      "text/plain": [
       "<keras.callbacks.History at 0x7ff487c4b7f0>"
      ]
     },
     "execution_count": 9,
     "metadata": {},
     "output_type": "execute_result"
    }
   ],
   "source": [
    "model.fit(x=dataMag,y=dataY,epochs=20,batch_size=32)"
   ]
  },
  {
   "cell_type": "code",
   "execution_count": 11,
   "metadata": {},
   "outputs": [],
   "source": [
    "#model.save('Lenet_model_with_Mag.h5') \n",
    "model.save('Lenet_model_with_overlap16_turkey_Mag.h5') "
   ]
  },
  {
   "cell_type": "code",
   "execution_count": 13,
   "metadata": {},
   "outputs": [],
   "source": [
    "\n"
   ]
  },
  {
   "cell_type": "code",
   "execution_count": 15,
   "metadata": {},
   "outputs": [],
   "source": []
  },
  {
   "cell_type": "code",
   "execution_count": 18,
   "metadata": {},
   "outputs": [
    {
     "name": "stdout",
     "output_type": "stream",
     "text": [
      "[8.19692403e-08 9.36005440e-12 1.59889246e-13 4.57460902e-10\n",
      " 9.99854445e-01 1.11907306e-11 4.28089379e-06 9.00322557e-05\n",
      " 4.19141486e-07 4.65972573e-12 2.63611919e-12 2.04748758e-05\n",
      " 3.50775697e-09 1.11668765e-10 2.43203097e-11 2.67762116e-05\n",
      " 1.51102512e-14 3.02982085e-06 4.44321586e-07 2.63753519e-10]\n"
     ]
    }
   ],
   "source": []
  },
  {
   "cell_type": "code",
   "execution_count": 19,
   "metadata": {},
   "outputs": [
    {
     "name": "stdout",
     "output_type": "stream",
     "text": [
      "[0. 0. 0. 0. 1. 0. 0. 0. 0. 0. 0. 0. 0. 0. 0. 0. 0. 0. 0. 0.]\n"
     ]
    }
   ],
   "source": []
  },
  {
   "cell_type": "code",
   "execution_count": null,
   "metadata": {},
   "outputs": [],
   "source": []
  }
 ],
 "metadata": {
  "kernelspec": {
   "display_name": "Python 3",
   "language": "python",
   "name": "python3"
  },
  "language_info": {
   "codemirror_mode": {
    "name": "ipython",
    "version": 3
   },
   "file_extension": ".py",
   "mimetype": "text/x-python",
   "name": "python",
   "nbconvert_exporter": "python",
   "pygments_lexer": "ipython3",
   "version": "3.6.6"
  }
 },
 "nbformat": 4,
 "nbformat_minor": 2
}
